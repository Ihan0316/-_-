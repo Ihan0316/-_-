{
 "cells": [
  {
   "cell_type": "code",
   "execution_count": 1,
   "id": "347a5adf-21df-4cf6-9e29-ddb16fba8c04",
   "metadata": {},
   "outputs": [
    {
     "name": "stdout",
     "output_type": "stream",
     "text": [
      "파일 정리 작업을 시작합니다...\n",
      "대상 경로: /workspace/data/kfood\n",
      "보존 대상 확장자: .jpg, .jpeg\n",
      "\n",
      "⚠️ 총 746개의 파일을 삭제할 예정입니다.\n"
     ]
    },
    {
     "name": "stdin",
     "output_type": "stream",
     "text": [
      "정말로 삭제를 진행하시겠습니까? (y/n):  y\n"
     ]
    },
    {
     "name": "stderr",
     "output_type": "stream",
     "text": [
      "파일 삭제 중: 100%|██████████| 746/746 [00:00<00:00, 1059.47it/s]"
     ]
    },
    {
     "name": "stdout",
     "output_type": "stream",
     "text": [
      "\n",
      "🎉 총 746개의 파일을 삭제했습니다.\n"
     ]
    },
    {
     "name": "stderr",
     "output_type": "stream",
     "text": [
      "\n"
     ]
    }
   ],
   "source": [
    "import os\n",
    "import glob\n",
    "from tqdm import tqdm\n",
    "\n",
    "# --- 설정 ---\n",
    "# ▼▼▼ 정리할 데이터 폴더의 경로를 입력하세요 ▼▼▼\n",
    "DATA_PATH = '../kfood'\n",
    "\n",
    "# --- 메인 실행 로직 ---\n",
    "print(f\"파일 정리 작업을 시작합니다...\")\n",
    "print(f\"대상 경로: {os.path.abspath(DATA_PATH)}\")\n",
    "\n",
    "# 1. 보존할 확장자 목록 (소문자로 지정)\n",
    "allowed_extensions = ['.jpg', '.jpeg']\n",
    "print(f\"보존 대상 확장자: {', '.join(allowed_extensions)}\")\n",
    "\n",
    "# 2. 모든 파일 목록을 재귀적으로 가져오기\n",
    "all_files = glob.glob(os.path.join(DATA_PATH, '**', '*'), recursive=True)\n",
    "\n",
    "# 3. 삭제할 파일 목록 필터링\n",
    "files_to_delete = []\n",
    "for file_path in all_files:\n",
    "    # 폴더가 아닌 파일만 대상으로 작업\n",
    "    if os.path.isfile(file_path):\n",
    "        # 파일 확장자를 소문자로 변경하여 비교\n",
    "        ext = os.path.splitext(file_path)[1].lower()\n",
    "        \n",
    "        # 확장자가 보존 대상 목록에 없으면 삭제 목록에 추가\n",
    "        if ext not in allowed_extensions:\n",
    "            files_to_delete.append(file_path)\n",
    "\n",
    "# 4. 최종 확인 후 삭제 실행\n",
    "if not files_to_delete:\n",
    "    print(\"\\n✅ 삭제할 파일이 없습니다. 모든 파일이 JPG/JPEG 형식입니다.\")\n",
    "else:\n",
    "    print(f\"\\n⚠️ 총 {len(files_to_delete)}개의 파일을 삭제할 예정입니다.\")\n",
    "    # 사용자에게 최종 확인을 받습니다. (안전장치)\n",
    "    user_input = input(\"정말로 삭제를 진행하시겠습니까? (y/n): \")\n",
    "    \n",
    "    if user_input.lower() == 'y':\n",
    "        deleted_count = 0\n",
    "        for file_path in tqdm(files_to_delete, desc=\"파일 삭제 중\"):\n",
    "            try:\n",
    "                os.remove(file_path)\n",
    "                deleted_count += 1\n",
    "            except Exception as e:\n",
    "                # tqdm 진행률과 겹치지 않게 오류 메시지 출력\n",
    "                tqdm.write(f\"\\n파일 삭제 오류: {file_path} (오류: {e})\")\n",
    "        \n",
    "        print(f\"\\n🎉 총 {deleted_count}개의 파일을 삭제했습니다.\")\n",
    "    else:\n",
    "        print(\"\\n작업이 취소되었습니다.\")"
   ]
  }
 ],
 "metadata": {
  "kernelspec": {
   "display_name": "Python 3 (ipykernel)",
   "language": "python",
   "name": "python3"
  },
  "language_info": {
   "codemirror_mode": {
    "name": "ipython",
    "version": 3
   },
   "file_extension": ".py",
   "mimetype": "text/x-python",
   "name": "python",
   "nbconvert_exporter": "python",
   "pygments_lexer": "ipython3",
   "version": "3.11.0rc1"
  }
 },
 "nbformat": 4,
 "nbformat_minor": 5
}
