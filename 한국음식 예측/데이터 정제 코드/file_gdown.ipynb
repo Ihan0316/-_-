{
 "cells": [
  {
   "cell_type": "code",
   "execution_count": null,
   "id": "initial_id",
   "metadata": {
    "collapsed": true
   },
   "outputs": [],
   "source": [
    "import gdown\n",
    "import os\n",
    "\n",
    "# 1. 위에서 복사한 '링크가 있는 모든 사용자'로 설정된 URL\n",
    "url = 'https://drive.google.com/file/d/1a2B3c4D5e6F7g8H9i0J/view?usp=sharing'\n",
    "\n",
    "# 2. 저장할 파일 이름 지정\n",
    "output_filename = 'my_dataset.zip'\n",
    "\n",
    "# 3. 파일 다운로드\n",
    "print(f\"'{output_filename}' 다운로드를 시작합니다...\")\n",
    "gdown.download(url, output_filename, quiet=False)\n",
    "\n",
    "print(\"다운로드가 완료되었습니다.\")\n",
    "\n",
    "# (선택 사항) 다운로드된 zip 파일 압축 해제\n",
    "# zipfile 라이브러리를 사용하거나 터미널 명령어를 실행할 수 있습니다.\n",
    "if output_filename.endswith('.zip'):\n",
    "    print(\"압축 해제를 시작합니다...\")\n",
    "    # 예시: unzip 명령어를 시스템에서 실행\n",
    "    os.system(f'unzip -q {output_filename}')\n",
    "    print(\"압축 해제가 완료되었습니다.\")"
   ]
  }
 ],
 "metadata": {
  "kernelspec": {
   "display_name": "Python 3",
   "language": "python",
   "name": "python3"
  },
  "language_info": {
   "codemirror_mode": {
    "name": "ipython",
    "version": 2
   },
   "file_extension": ".py",
   "mimetype": "text/x-python",
   "name": "python",
   "nbconvert_exporter": "python",
   "pygments_lexer": "ipython2",
   "version": "2.7.6"
  }
 },
 "nbformat": 4,
 "nbformat_minor": 5
}
