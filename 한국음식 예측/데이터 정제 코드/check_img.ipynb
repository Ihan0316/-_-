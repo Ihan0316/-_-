{
 "cells": [
  {
   "cell_type": "code",
   "execution_count": 1,
   "id": "793f5053-f5f1-4a53-a723-30e37aa0ba6c",
   "metadata": {},
   "outputs": [
    {
     "name": "stderr",
     "output_type": "stream",
     "text": [
      "2025-08-23 18:41:11.180315: I tensorflow/core/platform/cpu_feature_guard.cc:210] This TensorFlow binary is optimized to use available CPU instructions in performance-critical operations.\n",
      "To enable the following instructions: AVX2 FMA, in other operations, rebuild TensorFlow with the appropriate compiler flags.\n"
     ]
    },
    {
     "name": "stdout",
     "output_type": "stream",
     "text": [
      "TensorFlow 기반 데이터셋 무결성 검사를 시작합니다...\n",
      "대상 경로: /workspace/data/kfood\n"
     ]
    },
    {
     "name": "stderr",
     "output_type": "stream",
     "text": [
      "파일 검사 중:   0%|          | 0/150161 [00:00<?, ?it/s]2025-08-23 18:41:17.725415: I tensorflow/core/common_runtime/gpu/gpu_device.cc:1928] Created device /job:localhost/replica:0/task:0/device:GPU:0 with 1292 MB memory:  -> device: 0, name: Tesla V100-SXM2-32GB, pci bus id: 0000:8a:00.0, compute capability: 7.0\n",
      "파일 검사 중:   1%|▏         | 1945/150161 [00:15<19:43, 125.25it/s]\n"
     ]
    },
    {
     "ename": "KeyboardInterrupt",
     "evalue": "",
     "output_type": "error",
     "traceback": [
      "\u001b[0;31m---------------------------------------------------------------------------\u001b[0m",
      "\u001b[0;31mKeyboardInterrupt\u001b[0m                         Traceback (most recent call last)",
      "Cell \u001b[0;32mIn[1], line 31\u001b[0m\n\u001b[1;32m     27\u001b[0m     img_bytes \u001b[38;5;241m=\u001b[39m tf\u001b[38;5;241m.\u001b[39mio\u001b[38;5;241m.\u001b[39mread_file(file_path)\n\u001b[1;32m     29\u001b[0m     \u001b[38;5;66;03m# 2. TensorFlow로 이미지 디코딩 시도 (학습 시와 동일한 방식)\u001b[39;00m\n\u001b[1;32m     30\u001b[0m     \u001b[38;5;66;03m# 이 부분이 실패하면 학습 시에도 실패합니다.\u001b[39;00m\n\u001b[0;32m---> 31\u001b[0m     \u001b[43mtf\u001b[49m\u001b[38;5;241;43m.\u001b[39;49m\u001b[43mio\u001b[49m\u001b[38;5;241;43m.\u001b[39;49m\u001b[43mdecode_image\u001b[49m\u001b[43m(\u001b[49m\u001b[43mimg_bytes\u001b[49m\u001b[43m)\u001b[49m\n\u001b[1;32m     33\u001b[0m \u001b[38;5;28;01mexcept\u001b[39;00m tf\u001b[38;5;241m.\u001b[39merrors\u001b[38;5;241m.\u001b[39mInvalidArgumentError \u001b[38;5;28;01mas\u001b[39;00m e:\n\u001b[1;32m     34\u001b[0m     \u001b[38;5;66;03m# TensorFlow가 이미지로 인식하지 못하는 경우\u001b[39;00m\n\u001b[1;32m     35\u001b[0m     \u001b[38;5;28;01mif\u001b[39;00m \u001b[38;5;124m\"\u001b[39m\u001b[38;5;124mUnknown image file format\u001b[39m\u001b[38;5;124m\"\u001b[39m \u001b[38;5;129;01min\u001b[39;00m \u001b[38;5;28mstr\u001b[39m(e):\n",
      "File \u001b[0;32m/usr/local/lib/python3.11/dist-packages/tensorflow/python/util/traceback_utils.py:150\u001b[0m, in \u001b[0;36mfilter_traceback.<locals>.error_handler\u001b[0;34m(*args, **kwargs)\u001b[0m\n\u001b[1;32m    148\u001b[0m filtered_tb \u001b[38;5;241m=\u001b[39m \u001b[38;5;28;01mNone\u001b[39;00m\n\u001b[1;32m    149\u001b[0m \u001b[38;5;28;01mtry\u001b[39;00m:\n\u001b[0;32m--> 150\u001b[0m   \u001b[38;5;28;01mreturn\u001b[39;00m \u001b[43mfn\u001b[49m\u001b[43m(\u001b[49m\u001b[38;5;241;43m*\u001b[39;49m\u001b[43margs\u001b[49m\u001b[43m,\u001b[49m\u001b[43m \u001b[49m\u001b[38;5;241;43m*\u001b[39;49m\u001b[38;5;241;43m*\u001b[39;49m\u001b[43mkwargs\u001b[49m\u001b[43m)\u001b[49m\n\u001b[1;32m    151\u001b[0m \u001b[38;5;28;01mexcept\u001b[39;00m \u001b[38;5;167;01mException\u001b[39;00m \u001b[38;5;28;01mas\u001b[39;00m e:\n\u001b[1;32m    152\u001b[0m   filtered_tb \u001b[38;5;241m=\u001b[39m _process_traceback_frames(e\u001b[38;5;241m.\u001b[39m__traceback__)\n",
      "File \u001b[0;32m/usr/local/lib/python3.11/dist-packages/tensorflow/python/util/dispatch.py:1260\u001b[0m, in \u001b[0;36madd_dispatch_support.<locals>.decorator.<locals>.op_dispatch_handler\u001b[0;34m(*args, **kwargs)\u001b[0m\n\u001b[1;32m   1258\u001b[0m \u001b[38;5;66;03m# Fallback dispatch system (dispatch v1):\u001b[39;00m\n\u001b[1;32m   1259\u001b[0m \u001b[38;5;28;01mtry\u001b[39;00m:\n\u001b[0;32m-> 1260\u001b[0m   \u001b[38;5;28;01mreturn\u001b[39;00m \u001b[43mdispatch_target\u001b[49m\u001b[43m(\u001b[49m\u001b[38;5;241;43m*\u001b[39;49m\u001b[43margs\u001b[49m\u001b[43m,\u001b[49m\u001b[43m \u001b[49m\u001b[38;5;241;43m*\u001b[39;49m\u001b[38;5;241;43m*\u001b[39;49m\u001b[43mkwargs\u001b[49m\u001b[43m)\u001b[49m\n\u001b[1;32m   1261\u001b[0m \u001b[38;5;28;01mexcept\u001b[39;00m (\u001b[38;5;167;01mTypeError\u001b[39;00m, \u001b[38;5;167;01mValueError\u001b[39;00m):\n\u001b[1;32m   1262\u001b[0m   \u001b[38;5;66;03m# Note: convert_to_eager_tensor currently raises a ValueError, not a\u001b[39;00m\n\u001b[1;32m   1263\u001b[0m   \u001b[38;5;66;03m# TypeError, when given unexpected types.  So we need to catch both.\u001b[39;00m\n\u001b[1;32m   1264\u001b[0m   result \u001b[38;5;241m=\u001b[39m dispatch(op_dispatch_handler, args, kwargs)\n",
      "File \u001b[0;32m/usr/local/lib/python3.11/dist-packages/tensorflow/python/ops/image_ops_impl.py:3330\u001b[0m, in \u001b[0;36mdecode_image\u001b[0;34m(contents, channels, dtype, name, expand_animations)\u001b[0m\n\u001b[1;32m   3323\u001b[0m   \u001b[38;5;28;01mreturn\u001b[39;00m convert_image_dtype(\n\u001b[1;32m   3324\u001b[0m       gen_image_ops\u001b[38;5;241m.\u001b[39mdecode_image(\n\u001b[1;32m   3325\u001b[0m           contents\u001b[38;5;241m=\u001b[39mcontents,\n\u001b[1;32m   3326\u001b[0m           channels\u001b[38;5;241m=\u001b[39mchannels,\n\u001b[1;32m   3327\u001b[0m           expand_animations\u001b[38;5;241m=\u001b[39mexpand_animations,\n\u001b[1;32m   3328\u001b[0m           dtype\u001b[38;5;241m=\u001b[39mdtype), dest_dtype)\n\u001b[1;32m   3329\u001b[0m \u001b[38;5;28;01melse\u001b[39;00m:\n\u001b[0;32m-> 3330\u001b[0m   \u001b[38;5;28;01mreturn\u001b[39;00m \u001b[43mgen_image_ops\u001b[49m\u001b[38;5;241;43m.\u001b[39;49m\u001b[43mdecode_image\u001b[49m\u001b[43m(\u001b[49m\n\u001b[1;32m   3331\u001b[0m \u001b[43m      \u001b[49m\u001b[43mcontents\u001b[49m\u001b[38;5;241;43m=\u001b[39;49m\u001b[43mcontents\u001b[49m\u001b[43m,\u001b[49m\n\u001b[1;32m   3332\u001b[0m \u001b[43m      \u001b[49m\u001b[43mchannels\u001b[49m\u001b[38;5;241;43m=\u001b[39;49m\u001b[43mchannels\u001b[49m\u001b[43m,\u001b[49m\n\u001b[1;32m   3333\u001b[0m \u001b[43m      \u001b[49m\u001b[43mexpand_animations\u001b[49m\u001b[38;5;241;43m=\u001b[39;49m\u001b[43mexpand_animations\u001b[49m\u001b[43m,\u001b[49m\n\u001b[1;32m   3334\u001b[0m \u001b[43m      \u001b[49m\u001b[43mdtype\u001b[49m\u001b[38;5;241;43m=\u001b[39;49m\u001b[43mdtype\u001b[49m\u001b[43m)\u001b[49m\n",
      "File \u001b[0;32m/usr/local/lib/python3.11/dist-packages/tensorflow/python/ops/gen_image_ops.py:1060\u001b[0m, in \u001b[0;36mdecode_image\u001b[0;34m(contents, channels, dtype, expand_animations, name)\u001b[0m\n\u001b[1;32m   1058\u001b[0m \u001b[38;5;28;01mif\u001b[39;00m tld\u001b[38;5;241m.\u001b[39mis_eager:\n\u001b[1;32m   1059\u001b[0m   \u001b[38;5;28;01mtry\u001b[39;00m:\n\u001b[0;32m-> 1060\u001b[0m     _result \u001b[38;5;241m=\u001b[39m \u001b[43mpywrap_tfe\u001b[49m\u001b[38;5;241;43m.\u001b[39;49m\u001b[43mTFE_Py_FastPathExecute\u001b[49m\u001b[43m(\u001b[49m\n\u001b[1;32m   1061\u001b[0m \u001b[43m      \u001b[49m\u001b[43m_ctx\u001b[49m\u001b[43m,\u001b[49m\u001b[43m \u001b[49m\u001b[38;5;124;43m\"\u001b[39;49m\u001b[38;5;124;43mDecodeImage\u001b[39;49m\u001b[38;5;124;43m\"\u001b[39;49m\u001b[43m,\u001b[49m\u001b[43m \u001b[49m\u001b[43mname\u001b[49m\u001b[43m,\u001b[49m\u001b[43m \u001b[49m\u001b[43mcontents\u001b[49m\u001b[43m,\u001b[49m\u001b[43m \u001b[49m\u001b[38;5;124;43m\"\u001b[39;49m\u001b[38;5;124;43mchannels\u001b[39;49m\u001b[38;5;124;43m\"\u001b[39;49m\u001b[43m,\u001b[49m\u001b[43m \u001b[49m\u001b[43mchannels\u001b[49m\u001b[43m,\u001b[49m\u001b[43m \u001b[49m\u001b[38;5;124;43m\"\u001b[39;49m\u001b[38;5;124;43mdtype\u001b[39;49m\u001b[38;5;124;43m\"\u001b[39;49m\u001b[43m,\u001b[49m\n\u001b[1;32m   1062\u001b[0m \u001b[43m      \u001b[49m\u001b[43mdtype\u001b[49m\u001b[43m,\u001b[49m\u001b[43m \u001b[49m\u001b[38;5;124;43m\"\u001b[39;49m\u001b[38;5;124;43mexpand_animations\u001b[39;49m\u001b[38;5;124;43m\"\u001b[39;49m\u001b[43m,\u001b[49m\u001b[43m \u001b[49m\u001b[43mexpand_animations\u001b[49m\u001b[43m)\u001b[49m\n\u001b[1;32m   1063\u001b[0m     \u001b[38;5;28;01mreturn\u001b[39;00m _result\n\u001b[1;32m   1064\u001b[0m   \u001b[38;5;28;01mexcept\u001b[39;00m _core\u001b[38;5;241m.\u001b[39m_NotOkStatusException \u001b[38;5;28;01mas\u001b[39;00m e:\n",
      "\u001b[0;31mKeyboardInterrupt\u001b[0m: "
     ]
    }
   ],
   "source": [
    "import os\n",
    "import glob\n",
    "import tensorflow as tf\n",
    "from tqdm import tqdm\n",
    "\n",
    "# --- 설정 ---\n",
    "# ▼▼▼ 검사할 데이터 폴더의 경로를 입력하세요 ▼▼▼\n",
    "DATA_PATH = '../kfood'\n",
    "\n",
    "# --- 메인 실행 로직 ---\n",
    "print(f\"TensorFlow 기반 데이터셋 무결성 검사를 시작합니다...\")\n",
    "print(f\"대상 경로: {os.path.abspath(DATA_PATH)}\")\n",
    "\n",
    "all_files = glob.glob(os.path.join(DATA_PATH, '**', '*'), recursive=True)\n",
    "all_files = [f for f in all_files if os.path.isfile(f)]\n",
    "\n",
    "# 문제가 있는 파일 경로를 저장할 리스트\n",
    "problematic_files = []\n",
    "\n",
    "if not all_files:\n",
    "    print(\"검사할 파일이 없습니다.\")\n",
    "else:\n",
    "    for file_path in tqdm(all_files, desc=\"파일 검사 중\"):\n",
    "        try:\n",
    "            # 1. TensorFlow로 파일을 바이트 단위로 읽기\n",
    "            img_bytes = tf.io.read_file(file_path)\n",
    "            \n",
    "            # 2. TensorFlow로 이미지 디코딩 시도 (학습 시와 동일한 방식)\n",
    "            # 이 부분이 실패하면 학습 시에도 실패합니다.\n",
    "            tf.io.decode_image(img_bytes)\n",
    "\n",
    "        except tf.errors.InvalidArgumentError as e:\n",
    "            # TensorFlow가 이미지로 인식하지 못하는 경우\n",
    "            if \"Unknown image file format\" in str(e):\n",
    "                problematic_files.append({\n",
    "                    \"path\": file_path,\n",
    "                    \"reason\": \"TensorFlow가 인식할 수 없는 이미지 형식 또는 손상된 파일입니다.\"\n",
    "                })\n",
    "        except Exception as e:\n",
    "            # 기타 예외 처리\n",
    "            problematic_files.append({\n",
    "                \"path\": file_path,\n",
    "                \"reason\": f\"알 수 없는 오류: {str(e)}\"\n",
    "            })\n",
    "\n",
    "# --- 결과 출력 ---\n",
    "print(\"\\n\" + \"=\"*50)\n",
    "if not problematic_files:\n",
    "    print(\"✅ 모든 파일을 성공적으로 확인했습니다. TensorFlow 호환성 문제가 발견되지 않았습니다.\")\n",
    "else:\n",
    "    print(f\"⚠️ 총 {len(problematic_files)}개의 문제 파일을 찾았습니다.\")\n",
    "    print(\"--- 문제 파일 목록 ---\")\n",
    "    for item in problematic_files:\n",
    "        print(f\"파일: {item['path']}\")\n",
    "        print(f\"  원인: {item['reason']}\")\n",
    "        print(\"-\" * 20)\n",
    "    \n",
    "    print(\"\\n위 파일들을 삭제하거나 수정 후 다시 시도해 주세요.\")\n",
    "print(\"=\"*50)"
   ]
  },
  {
   "cell_type": "code",
   "execution_count": 2,
   "id": "fbb36742-f3a7-4bed-9821-7ece2ff91098",
   "metadata": {},
   "outputs": [
    {
     "name": "stdout",
     "output_type": "stream",
     "text": [
      "'/workspace/data/kfood' 경로에서 확장자와 실제 형식이 다른 파일을 검색합니다...\n"
     ]
    },
    {
     "name": "stderr",
     "output_type": "stream",
     "text": [
      "파일 형식 확인 중:  10%|▉         | 14882/150161 [00:21<02:51, 787.16it/s]/usr/local/lib/python3.11/dist-packages/PIL/TiffImagePlugin.py:870: UserWarning: Truncated File Read\n",
      "  warnings.warn(str(msg))\n",
      "파일 형식 확인 중: 100%|██████████| 150161/150161 [00:59<00:00, 2525.75it/s] "
     ]
    },
    {
     "name": "stdout",
     "output_type": "stream",
     "text": [
      "\n",
      "==================================================\n",
      "✅ 모든 .jpg/.jpeg 파일의 실제 형식이 일치합니다.\n",
      "==================================================\n"
     ]
    },
    {
     "name": "stderr",
     "output_type": "stream",
     "text": [
      "\n"
     ]
    }
   ],
   "source": [
    "import os\n",
    "import glob\n",
    "from PIL import Image\n",
    "from tqdm import tqdm\n",
    "\n",
    "# 검사할 데이터 폴더 경로\n",
    "DATA_PATH = '../kfood'\n",
    "\n",
    "print(f\"'{os.path.abspath(DATA_PATH)}' 경로에서 확장자와 실제 형식이 다른 파일을 검색합니다...\")\n",
    "\n",
    "image_files = glob.glob(os.path.join(DATA_PATH, '**', '*'), recursive=True)\n",
    "image_files = [f for f in image_files if os.path.isfile(f)]\n",
    "\n",
    "mismatched_files = []\n",
    "\n",
    "for file_path in tqdm(image_files, desc=\"파일 형식 확인 중\"):\n",
    "    try:\n",
    "        with Image.open(file_path) as img:\n",
    "            # .format 속성은 파일 내용물을 기반으로 실제 형식을 알려줍니다.\n",
    "            # JPEG 파일의 경우 'JPEG'를 반환합니다.\n",
    "            real_format = img.format\n",
    "            if real_format != 'JPEG':\n",
    "                mismatched_files.append((file_path, real_format))\n",
    "    except Exception:\n",
    "        # 손상된 파일은 무시\n",
    "        continue\n",
    "\n",
    "# --- 결과 출력 ---\n",
    "print(\"\\n\" + \"=\"*50)\n",
    "if not mismatched_files:\n",
    "    print(\"✅ 모든 .jpg/.jpeg 파일의 실제 형식이 일치합니다.\")\n",
    "else:\n",
    "    print(f\"⚠️ 총 {len(mismatched_files)}개의 '위장' 파일을 찾았습니다.\")\n",
    "    print(\"--- 파일 목록 ---\")\n",
    "    for f_path, f_format in mismatched_files:\n",
    "        print(f\"파일: {f_path} (실제 형식: {f_format})\")\n",
    "print(\"=\"*50)"
   ]
  },
  {
   "cell_type": "code",
   "execution_count": 5,
   "id": "563a2ecf-c098-4381-a029-2c6d695b60e4",
   "metadata": {},
   "outputs": [
    {
     "name": "stdout",
     "output_type": "stream",
     "text": [
      "✅ 이미지 데이터셋 정리 및 검증을 시작합니다...\n",
      "대상 경로: /workspace/data/kfood\n",
      "총 147944개의 이미지 파일을 검증 및 처리합니다...\n"
     ]
    },
    {
     "name": "stderr",
     "output_type": "stream",
     "text": [
      "이미지 처리 중:   1%|▏         | 2022/147944 [00:28<34:42, 70.08it/s]  \n"
     ]
    },
    {
     "ename": "KeyboardInterrupt",
     "evalue": "",
     "output_type": "error",
     "traceback": [
      "\u001b[0;31m---------------------------------------------------------------------------\u001b[0m",
      "\u001b[0;31mKeyboardInterrupt\u001b[0m                         Traceback (most recent call last)",
      "Cell \u001b[0;32mIn[5], line 101\u001b[0m\n\u001b[1;32m     98\u001b[0m \u001b[38;5;28;01mif\u001b[39;00m \u001b[38;5;18m__name__\u001b[39m \u001b[38;5;241m==\u001b[39m \u001b[38;5;124m\"\u001b[39m\u001b[38;5;124m__main__\u001b[39m\u001b[38;5;124m\"\u001b[39m:\n\u001b[1;32m    100\u001b[0m     DATA_PATH \u001b[38;5;241m=\u001b[39m \u001b[38;5;124m'\u001b[39m\u001b[38;5;124m../kfood\u001b[39m\u001b[38;5;124m'\u001b[39m \n\u001b[0;32m--> 101\u001b[0m     \u001b[43mclean_and_validate_dataset\u001b[49m\u001b[43m(\u001b[49m\u001b[43mDATA_PATH\u001b[49m\u001b[43m)\u001b[49m\n",
      "Cell \u001b[0;32mIn[5], line 56\u001b[0m, in \u001b[0;36mclean_and_validate_dataset\u001b[0;34m(data_path, min_size, std_dev_threshold)\u001b[0m\n\u001b[1;32m     53\u001b[0m     \u001b[38;5;28;01mcontinue\u001b[39;00m\n\u001b[1;32m     55\u001b[0m \u001b[38;5;66;03m# 단색 이미지 확인\u001b[39;00m\n\u001b[0;32m---> 56\u001b[0m pixels \u001b[38;5;241m=\u001b[39m np\u001b[38;5;241m.\u001b[39marray(\u001b[43mimg\u001b[49m\u001b[38;5;241;43m.\u001b[39;49m\u001b[43mconvert\u001b[49m\u001b[43m(\u001b[49m\u001b[38;5;124;43m'\u001b[39;49m\u001b[38;5;124;43mL\u001b[39;49m\u001b[38;5;124;43m'\u001b[39;49m\u001b[43m)\u001b[49m)\n\u001b[1;32m     57\u001b[0m \u001b[38;5;28;01mif\u001b[39;00m pixels\u001b[38;5;241m.\u001b[39mstd() \u001b[38;5;241m<\u001b[39m std_dev_threshold:\n\u001b[1;32m     58\u001b[0m     tqdm\u001b[38;5;241m.\u001b[39mwrite(\u001b[38;5;124mf\u001b[39m\u001b[38;5;124m\"\u001b[39m\u001b[38;5;124m❌ 단색 이미지 제외: \u001b[39m\u001b[38;5;132;01m{\u001b[39;00mfile_path\u001b[38;5;132;01m}\u001b[39;00m\u001b[38;5;124m\"\u001b[39m)\n",
      "File \u001b[0;32m/usr/local/lib/python3.11/dist-packages/PIL/Image.py:922\u001b[0m, in \u001b[0;36mImage.convert\u001b[0;34m(self, mode, matrix, dither, palette, colors)\u001b[0m\n\u001b[1;32m    874\u001b[0m \u001b[38;5;28;01mdef\u001b[39;00m \u001b[38;5;21mconvert\u001b[39m(\n\u001b[1;32m    875\u001b[0m     \u001b[38;5;28mself\u001b[39m, mode\u001b[38;5;241m=\u001b[39m\u001b[38;5;28;01mNone\u001b[39;00m, matrix\u001b[38;5;241m=\u001b[39m\u001b[38;5;28;01mNone\u001b[39;00m, dither\u001b[38;5;241m=\u001b[39m\u001b[38;5;28;01mNone\u001b[39;00m, palette\u001b[38;5;241m=\u001b[39mPalette\u001b[38;5;241m.\u001b[39mWEB, colors\u001b[38;5;241m=\u001b[39m\u001b[38;5;241m256\u001b[39m\n\u001b[1;32m    876\u001b[0m ):\n\u001b[1;32m    877\u001b[0m \u001b[38;5;250m    \u001b[39m\u001b[38;5;124;03m\"\"\"\u001b[39;00m\n\u001b[1;32m    878\u001b[0m \u001b[38;5;124;03m    Returns a converted copy of this image. For the \"P\" mode, this\u001b[39;00m\n\u001b[1;32m    879\u001b[0m \u001b[38;5;124;03m    method translates pixels through the palette.  If mode is\u001b[39;00m\n\u001b[0;32m   (...)\u001b[0m\n\u001b[1;32m    919\u001b[0m \u001b[38;5;124;03m    :returns: An :py:class:`~PIL.Image.Image` object.\u001b[39;00m\n\u001b[1;32m    920\u001b[0m \u001b[38;5;124;03m    \"\"\"\u001b[39;00m\n\u001b[0;32m--> 922\u001b[0m     \u001b[38;5;28;43mself\u001b[39;49m\u001b[38;5;241;43m.\u001b[39;49m\u001b[43mload\u001b[49m\u001b[43m(\u001b[49m\u001b[43m)\u001b[49m\n\u001b[1;32m    924\u001b[0m     has_transparency \u001b[38;5;241m=\u001b[39m \u001b[38;5;124m\"\u001b[39m\u001b[38;5;124mtransparency\u001b[39m\u001b[38;5;124m\"\u001b[39m \u001b[38;5;129;01min\u001b[39;00m \u001b[38;5;28mself\u001b[39m\u001b[38;5;241m.\u001b[39minfo\n\u001b[1;32m    925\u001b[0m     \u001b[38;5;28;01mif\u001b[39;00m \u001b[38;5;129;01mnot\u001b[39;00m mode \u001b[38;5;129;01mand\u001b[39;00m \u001b[38;5;28mself\u001b[39m\u001b[38;5;241m.\u001b[39mmode \u001b[38;5;241m==\u001b[39m \u001b[38;5;124m\"\u001b[39m\u001b[38;5;124mP\u001b[39m\u001b[38;5;124m\"\u001b[39m:\n\u001b[1;32m    926\u001b[0m         \u001b[38;5;66;03m# determine default mode\u001b[39;00m\n",
      "File \u001b[0;32m/usr/local/lib/python3.11/dist-packages/PIL/ImageFile.py:291\u001b[0m, in \u001b[0;36mImageFile.load\u001b[0;34m(self)\u001b[0m\n\u001b[1;32m    288\u001b[0m         \u001b[38;5;28;01mraise\u001b[39;00m \u001b[38;5;167;01mOSError\u001b[39;00m(msg)\n\u001b[1;32m    290\u001b[0m b \u001b[38;5;241m=\u001b[39m b \u001b[38;5;241m+\u001b[39m s\n\u001b[0;32m--> 291\u001b[0m n, err_code \u001b[38;5;241m=\u001b[39m \u001b[43mdecoder\u001b[49m\u001b[38;5;241;43m.\u001b[39;49m\u001b[43mdecode\u001b[49m\u001b[43m(\u001b[49m\u001b[43mb\u001b[49m\u001b[43m)\u001b[49m\n\u001b[1;32m    292\u001b[0m \u001b[38;5;28;01mif\u001b[39;00m n \u001b[38;5;241m<\u001b[39m \u001b[38;5;241m0\u001b[39m:\n\u001b[1;32m    293\u001b[0m     \u001b[38;5;28;01mbreak\u001b[39;00m\n",
      "\u001b[0;31mKeyboardInterrupt\u001b[0m: "
     ]
    }
   ],
   "source": [
    "import os\n",
    "import glob\n",
    "from PIL import Image, ImageFile\n",
    "from tqdm import tqdm\n",
    "import numpy as np\n",
    "\n",
    "# Pillow가 불완전한 이미지를 로드할 때 오류를 발생시키도록 설정\n",
    "ImageFile.LOAD_TRUNCATED_IMAGES = False\n",
    "\n",
    "def clean_and_validate_dataset(data_path, min_size=(64, 64), std_dev_threshold=10):\n",
    "    \"\"\"\n",
    "    주어진 경로의 이미지 데이터셋을 정리하고 검증하는 함수.\n",
    "    \n",
    "    Args:\n",
    "        data_path (str): 이미지 데이터셋의 루트 경로.\n",
    "        min_size (tuple): 유효한 이미지의 최소 가로, 세로 크기 (기본값: 64, 64).\n",
    "        std_dev_threshold (int): 이미지의 픽셀 표준편차 임계값. 이 값보다 낮으면 단색으로 간주하여 제외 (기본값: 10).\n",
    "    \"\"\"\n",
    "    print(\"✅ 이미지 데이터셋 정리 및 검증을 시작합니다...\")\n",
    "    print(f\"대상 경로: {os.path.abspath(data_path)}\")\n",
    "\n",
    "    # 1. 모든 이미지 파일 목록 생성\n",
    "    image_files = []\n",
    "\n",
    "    supported_extensions = ['*.jpg', '*.jpeg', '*.png', '*.gif', '*.bmp', '*.tiff', '*.webp']\n",
    "    for ext in supported_extensions:\n",
    "        image_files.extend(glob.glob(os.path.join(data_path, '**', ext), recursive=True))\n",
    "\n",
    "    \n",
    "    total_files = len(image_files)\n",
    "    if total_files == 0:\n",
    "        print(\"🔍 처리할 이미지 파일이 없습니다.\")\n",
    "        return\n",
    "\n",
    "    print(f\"총 {total_files}개의 이미지 파일을 검증 및 처리합니다...\")\n",
    "\n",
    "    invalid_count = 0\n",
    "    converted_count = 0\n",
    "    \n",
    "    for file_path in tqdm(image_files, desc=\"이미지 처리 중\"):\n",
    "        try:\n",
    "            # 파일 로드 및 유효성 검증\n",
    "            with Image.open(file_path) as img:\n",
    "                img.verify() # 파일 구조 및 형식 검증\n",
    "\n",
    "            # 2. 이미지 품질 및 크기 검증\n",
    "            with Image.open(file_path) as img:\n",
    "                # 최소 크기 확인\n",
    "                if img.width < min_size[0] or img.height < min_size[1]:\n",
    "                    tqdm.write(f\"❌ 크기 미달 파일 제외: {file_path}\")\n",
    "                    os.remove(file_path)\n",
    "                    invalid_count += 1\n",
    "                    continue\n",
    "\n",
    "                # 단색 이미지 확인\n",
    "                pixels = np.array(img.convert('L'))\n",
    "                if pixels.std() < std_dev_threshold:\n",
    "                    tqdm.write(f\"❌ 단색 이미지 제외: {file_path}\")\n",
    "                    os.remove(file_path)\n",
    "                    invalid_count += 1\n",
    "                    continue\n",
    "            \n",
    "            # 3. 파일 형식 통일 (JPEG)\n",
    "            with Image.open(file_path) as img:\n",
    "                if img.format != 'JPEG' or os.path.splitext(file_path)[1].lower() not in ['.jpg', '.jpeg']:\n",
    "                    base_name, _ = os.path.splitext(file_path)\n",
    "                    new_file_path = base_name + '.jpg'\n",
    "                    \n",
    "                    # 중복 이름 처리\n",
    "                    counter = 1\n",
    "                    while os.path.exists(new_file_path) and file_path != new_file_path:\n",
    "                        new_file_path = f\"{base_name}_{counter}.jpg\"\n",
    "                        counter += 1\n",
    "                    \n",
    "                    img.convert('RGB').save(new_file_path, 'JPEG', quality=95)\n",
    "                    \n",
    "                    if file_path != new_file_path:\n",
    "                        os.remove(file_path)\n",
    "                    \n",
    "                    converted_count += 1\n",
    "\n",
    "        except Exception as e:\n",
    "            tqdm.write(f\"❌ 손상된 파일 발견, 삭제: {file_path} - 오류: {e}\")\n",
    "            try:\n",
    "                os.remove(file_path)\n",
    "            except OSError:\n",
    "                pass # 이미 파일이 없으면 무시\n",
    "            invalid_count += 1\n",
    "\n",
    "    print(\"\\n\" + \"=\"*50)\n",
    "    print(\"✅ 데이터셋 정리 및 검증이 완료되었습니다.\")\n",
    "    print(f\"  - 총 처리된 파일: {total_files}개\")\n",
    "    print(f\"  - JPG로 변환/수정된 파일: {converted_count}개\")\n",
    "    print(f\"  - 삭제된 손상/오류 파일: {invalid_count}개\")\n",
    "    print(\"=\"*50)\n",
    "\n",
    "# --- 실행 ---\n",
    "if __name__ == \"__main__\":\n",
    "\n",
    "    DATA_PATH = '../kfood' \n",
    "    clean_and_validate_dataset(DATA_PATH)"
   ]
  },
  {
   "cell_type": "code",
   "execution_count": 2,
   "id": "3af56a60-adf5-4abd-b7ff-4be772cb834f",
   "metadata": {},
   "outputs": [
    {
     "name": "stderr",
     "output_type": "stream",
     "text": [
      "                                                                                              \r"
     ]
    }
   ],
   "source": [
    "import warnings\n",
    "from PIL import Image, TiffImagePlugin\n",
    "import os\n",
    "from tqdm import tqdm\n",
    "\n",
    "def fix_jpeg_sos_parameters(root_folder):\n",
    "    for dirpath, dirnames, filenames in os.walk(root_folder):\n",
    "        image_files = [f for f in filenames if f.endswith('.jpg') or f.endswith('.jpeg') or f.endswith('.tif') or f.endswith('.tiff')]\n",
    "        for filename in tqdm(image_files, desc=f'Processing {dirpath}', leave=False):\n",
    "            image_path = os.path.join(dirpath, filename)\n",
    "            try:\n",
    "                with warnings.catch_warnings(record=True) as w:\n",
    "                    warnings.simplefilter(\"always\")\n",
    "                    with Image.open(image_path) as img:\n",
    "                        img.save(image_path, \"JPEG\")\n",
    "\n",
    "                    # 경고가 발생했으면 출력\n",
    "                    for warn in w:\n",
    "                        if issubclass(warn.category, UserWarning):\n",
    "                            print(f\"Warning for file {filename}: {warn.message}\")\n",
    "\n",
    "            except Exception as e:\n",
    "                print(f\"Error processing {filename}: {e}\")\n",
    "\n",
    "image_directory = \"../kfood\"\n",
    "fix_jpeg_sos_parameters(image_directory)\n"
   ]
  }
 ],
 "metadata": {
  "kernelspec": {
   "display_name": "Python 3 (ipykernel)",
   "language": "python",
   "name": "python3"
  },
  "language_info": {
   "codemirror_mode": {
    "name": "ipython",
    "version": 3
   },
   "file_extension": ".py",
   "mimetype": "text/x-python",
   "name": "python",
   "nbconvert_exporter": "python",
   "pygments_lexer": "ipython3",
   "version": "3.11.0rc1"
  }
 },
 "nbformat": 4,
 "nbformat_minor": 5
}
