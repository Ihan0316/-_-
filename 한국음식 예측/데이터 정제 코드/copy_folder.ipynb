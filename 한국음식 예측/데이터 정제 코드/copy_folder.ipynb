{
 "cells": [
  {
   "cell_type": "code",
   "id": "b702e98f-c63a-4889-979a-ed8a29a21a64",
   "metadata": {
    "ExecuteTime": {
     "end_time": "2025-08-24T13:39:06.898725Z",
     "start_time": "2025-08-24T13:37:46.262843Z"
    }
   },
   "source": [
    "import os\n",
    "import shutil\n",
    "from tqdm import tqdm\n",
    "\n",
    "def copy_with_progress(src, dst):\n",
    "    \"\"\"tqdm 진행률 표시와 함께 폴더를 복사하는 함수\"\"\"\n",
    "    # 복사할 파일 총 개수 계산\n",
    "    total_files = sum([len(files) for r, d, files in os.walk(src)])\n",
    "    \n",
    "    # tqdm 진행률 바 생성\n",
    "    progress_bar = tqdm(total=total_files, desc=\"파일 복사 중\", unit=\"file\")\n",
    "    \n",
    "    # copytree의 copy_function으로 사용하여 각 파일 복사 시 진행률 업데이트\n",
    "    def copy_function_with_progress(src_file, dst_file):\n",
    "        shutil.copy2(src_file, dst_file)\n",
    "        progress_bar.update(1)\n",
    "\n",
    "    shutil.copytree(src, dst, copy_function=copy_function_with_progress)\n",
    "    progress_bar.close()\n",
    "\n",
    "# --- 설정 ---\n",
    "# ▼▼▼ 복사할 원본 폴더 경로를 입력하세요 ▼▼▼\n",
    "source_folder = '/Users/ihanjo/Downloads/한국 음식 이미지/kfood_원본'\n",
    "\n",
    "# ▼▼▼ 사본을 생성할 목적지 폴더 경로를 입력하세요 ▼▼▼\n",
    "destination_folder = '/Users/ihanjo/Documents/미니 프로젝트/한국음식 예측/데이터/data/kfood'\n",
    "\n",
    "\n",
    "# --- 메인 실행 로직 ---\n",
    "print(\"폴더 복사를 시작합니다...\")\n",
    "print(f\"원본: {os.path.abspath(source_folder)}\")\n",
    "print(f\"사본: {os.path.abspath(destination_folder)}\")\n",
    "print(\"-\" * 50)\n",
    "\n",
    "try:\n",
    "    # 1. 원본 폴더가 존재하는지 확인\n",
    "    if not os.path.isdir(source_folder):\n",
    "        print(f\"❌ 오류: 원본 폴더 '{source_folder}'를 찾을 수 없습니다.\")\n",
    "        exit()\n",
    "\n",
    "    # 2. 목적지 폴더가 이미 존재하는지 확인 (안전장치)\n",
    "    if os.path.exists(destination_folder):\n",
    "        print(f\"⚠️ 경고: 목적지 폴더 '{destination_folder}'가 이미 존재합니다.\")\n",
    "        user_input = input(\"기존 폴더를 삭제하고 새로 복사하시겠습니까? (y/n): \")\n",
    "        if user_input.lower() == 'y':\n",
    "            print(\"기존 폴더를 삭제합니다...\")\n",
    "            shutil.rmtree(destination_folder)\n",
    "        else:\n",
    "            print(\"작업이 취소되었습니다.\")\n",
    "            exit()\n",
    "    \n",
    "    # 3. 폴더 복사 실행 (진행률 표시 포함)\n",
    "    copy_with_progress(source_folder, destination_folder)\n",
    "    \n",
    "    print(\"\\n✅ 폴더 복사가 성공적으로 완료되었습니다.\")\n",
    "\n",
    "except Exception as e:\n",
    "    print(f\"\\n❌ 복사 중 오류가 발생했습니다: {e}\")"
   ],
   "outputs": [
    {
     "name": "stdout",
     "output_type": "stream",
     "text": [
      "폴더 복사를 시작합니다...\n",
      "원본: /Users/ihanjo/Downloads/한국 음식 이미지/kfood_원본\n",
      "사본: /Users/ihanjo/Documents/미니 프로젝트/한국음식 예측/데이터/data/kfood\n",
      "--------------------------------------------------\n",
      "⚠️ 경고: 목적지 폴더 '/Users/ihanjo/Documents/미니 프로젝트/한국음식 예측/데이터/data/kfood'가 이미 존재합니다.\n",
      "기존 폴더를 삭제합니다...\n"
     ]
    },
    {
     "name": "stderr",
     "output_type": "stream",
     "text": [
      "파일 복사 중: 100%|██████████| 150911/150911 [01:15<00:00, 1989.47file/s]"
     ]
    },
    {
     "name": "stdout",
     "output_type": "stream",
     "text": [
      "\n",
      "✅ 폴더 복사가 성공적으로 완료되었습니다.\n"
     ]
    },
    {
     "name": "stderr",
     "output_type": "stream",
     "text": [
      "\n"
     ]
    }
   ],
   "execution_count": 2
  }
 ],
 "metadata": {
  "kernelspec": {
   "display_name": "Python 3 (ipykernel)",
   "language": "python",
   "name": "python3"
  },
  "language_info": {
   "codemirror_mode": {
    "name": "ipython",
    "version": 3
   },
   "file_extension": ".py",
   "mimetype": "text/x-python",
   "name": "python",
   "nbconvert_exporter": "python",
   "pygments_lexer": "ipython3",
   "version": "3.11.0rc1"
  }
 },
 "nbformat": 4,
 "nbformat_minor": 5
}
