{
 "cells": [
  {
   "cell_type": "code",
   "execution_count": 1,
   "id": "56a42ee6b6b78fc",
   "metadata": {},
   "outputs": [
    {
     "name": "stderr",
     "output_type": "stream",
     "text": [
      "2025-08-23 20:34:31.228084: I tensorflow/core/platform/cpu_feature_guard.cc:210] This TensorFlow binary is optimized to use available CPU instructions in performance-critical operations.\n",
      "To enable the following instructions: AVX2 FMA, in other operations, rebuild TensorFlow with the appropriate compiler flags.\n"
     ]
    }
   ],
   "source": [
    "# ======================================================\n",
    "# 셀 1: 기본 설정 및 라이브러리 임포트\n",
    "# ======================================================\n",
    "import os\n",
    "import numpy as np\n",
    "import matplotlib.pyplot as plt\n",
    "import tensorflow as tf\n",
    "from tensorflow.keras.losses import (\n",
    "   binary_crossentropy, categorical_crossentropy, \n",
    "   sparse_categorical_crossentropy, mean_squared_error\n",
    ")\n",
    "from tensorflow.keras.callbacks import EarlyStopping, ModelCheckpoint, ReduceLROnPlateau\n",
    "from tensorflow.keras.layers import (\n",
    "   Input, Dense, Conv2D, MaxPooling2D, Dropout, \n",
    "   SimpleRNN, LSTM, GRU, BatchNormalization, GlobalAveragePooling2D,\n",
    "   Flatten, Activation, Rescaling, RandomFlip, RandomRotation, RandomZoom, RandomTranslation, RandomContrast, Rescaling\n",
    ")\n",
    "from tensorflow.keras.mixed_precision import set_global_policy\n",
    "from tensorflow.keras.models import Sequential\n",
    "# 전역 정책을 'mixed_float16'으로 설정\n",
    "set_global_policy('mixed_float16')\n",
    "\n",
    "tf.config.threading.set_inter_op_parallelism_threads(8)\n",
    "tf.config.threading.set_intra_op_parallelism_threads(8)"
   ]
  },
  {
   "cell_type": "code",
   "execution_count": 2,
   "id": "e5be9ad2db3ed8b4",
   "metadata": {},
   "outputs": [],
   "source": [
    "# ======================================================\n",
    "# 셀 2: 데이터셋 준비 및 모델 생성 함수 정의\n",
    "# ======================================================\n",
    "\n",
    "def prepare_datasets(base_path, seed, img_size, batch_size, train_ratio=0.7, val_ratio=0.15):\n",
    "    \"\"\"\n",
    "    지정된 경로에서 전체 데이터셋을 로드하고 훈련, 검증, 테스트용으로 분할합니다.\n",
    "    \"\"\"\n",
    "    print(\"전체 데이터셋 로딩 중...\")\n",
    "    full_dataset = tf.keras.utils.image_dataset_from_directory(\n",
    "        base_path,\n",
    "        seed=seed,\n",
    "        image_size=img_size,\n",
    "        batch_size=batch_size,\n",
    "        shuffle=True\n",
    "    )\n",
    "    \n",
    "    class_names = full_dataset.class_names\n",
    "    print(f\"총 {len(class_names)}개의 클래스를 찾았습니다.\")\n",
    "\n",
    "    dataset_size = tf.data.experimental.cardinality(full_dataset).numpy()\n",
    "    train_size = int(train_ratio * dataset_size)\n",
    "    validation_size = int(val_ratio * dataset_size)\n",
    "    \n",
    "    print(f\"전체: {dataset_size} 배치 -> 훈련: {train_size}, 검증: {validation_size}, 테스트: {dataset_size - train_size - validation_size} 배치로 분할\")\n",
    "\n",
    "    train_ds = full_dataset.take(train_size)\n",
    "    validation_ds = full_dataset.skip(train_size).take(validation_size)\n",
    "    test_ds = full_dataset.skip(train_size + validation_size)\n",
    "    \n",
    "    AUTOTUNE = tf.data.AUTOTUNE\n",
    "    train_ds = train_ds.shuffle(256).prefetch(buffer_size=AUTOTUNE)\n",
    "    validation_ds = validation_ds.prefetch(buffer_size=AUTOTUNE)\n",
    "    test_ds = test_ds.prefetch(buffer_size=AUTOTUNE)\n",
    "    \n",
    "    print(\"✅ 훈련, 검증, 테스트 데이터셋 분할 완료.\")\n",
    "    return train_ds, validation_ds, test_ds, class_names\n",
    "\n",
    "def create_kfood_model(input_shape, num_classes):\n",
    "    \"\"\"\n",
    "    EfficientNetB4 기반의 전이 학습 모델을 생성하고 컴파일합니다.\n",
    "    \"\"\"\n",
    "    base_model = tf.keras.applications.EfficientNetB4(\n",
    "        include_top=False,\n",
    "        weights='imagenet',\n",
    "        input_shape=input_shape\n",
    "    )\n",
    "    base_model.trainable = False\n",
    "    \n",
    "    inputs = tf.keras.Input(shape=input_shape)\n",
    "    x = tf.keras.layers.Rescaling(1./255)(inputs)\n",
    "    x = base_model(x, training=False)\n",
    "    x = tf.keras.layers.GlobalAveragePooling2D()(x)\n",
    "    x = tf.keras.layers.Dropout(0.3)(x)\n",
    "    outputs = tf.keras.layers.Dense(num_classes, activation=\"softmax\", dtype='float32')(x)\n",
    "    model = tf.keras.Model(inputs, outputs)\n",
    "    \n",
    "#     m3 = Sequential([\n",
    "#     Input(shape=(180, 180, 3)),\n",
    "#     Rescaling(1./255),\n",
    "#     m2,\n",
    "#     GlobalAveragePooling2D(),\n",
    "#     Dense(128),\n",
    "#     BatchNormalization(),\n",
    "#     Activation('relu'),\n",
    "#     Dropout(0.5),\n",
    "#     Dense(1, activation='sigmoid')\n",
    "# ])\n",
    "\n",
    "    model.compile(\n",
    "        optimizer='adam',\n",
    "        loss='sparse_categorical_crossentropy',\n",
    "        metrics=['accuracy']\n",
    "    )\n",
    "    \n",
    "    return model"
   ]
  },
  {
   "cell_type": "code",
   "execution_count": null,
   "id": "a614f0faede96c59",
   "metadata": {},
   "outputs": [
    {
     "name": "stdout",
     "output_type": "stream",
     "text": [
      "전체 데이터셋 로딩 중...\n",
      "Found 150161 files belonging to 27 classes.\n"
     ]
    },
    {
     "name": "stderr",
     "output_type": "stream",
     "text": [
      "2025-08-23 20:34:49.296907: I tensorflow/core/common_runtime/gpu/gpu_device.cc:1928] Created device /job:localhost/replica:0/task:0/device:GPU:0 with 31125 MB memory:  -> device: 0, name: Tesla V100-SXM2-32GB, pci bus id: 0000:8a:00.0, compute capability: 7.0\n"
     ]
    },
    {
     "name": "stdout",
     "output_type": "stream",
     "text": [
      "총 27개의 클래스를 찾았습니다.\n",
      "전체: 18771 배치 -> 훈련: 13139, 검증: 2815, 테스트: 2817 배치로 분할\n",
      "✅ 훈련, 검증, 테스트 데이터셋 분할 완료.\n"
     ]
    },
    {
     "data": {
      "text/html": [
       "<pre style=\"white-space:pre;overflow-x:auto;line-height:normal;font-family:Menlo,'DejaVu Sans Mono',consolas,'Courier New',monospace\"><span style=\"font-weight: bold\">Model: \"functional_1\"</span>\n",
       "</pre>\n"
      ],
      "text/plain": [
       "\u001b[1mModel: \"functional_1\"\u001b[0m\n"
      ]
     },
     "metadata": {},
     "output_type": "display_data"
    },
    {
     "data": {
      "text/html": [
       "<pre style=\"white-space:pre;overflow-x:auto;line-height:normal;font-family:Menlo,'DejaVu Sans Mono',consolas,'Courier New',monospace\">┏━━━━━━━━━━━━━━━━━━━━━━━━━━━━━━━━━┳━━━━━━━━━━━━━━━━━━━━━━━━┳━━━━━━━━━━━━━━━┓\n",
       "┃<span style=\"font-weight: bold\"> Layer (type)                    </span>┃<span style=\"font-weight: bold\"> Output Shape           </span>┃<span style=\"font-weight: bold\">       Param # </span>┃\n",
       "┡━━━━━━━━━━━━━━━━━━━━━━━━━━━━━━━━━╇━━━━━━━━━━━━━━━━━━━━━━━━╇━━━━━━━━━━━━━━━┩\n",
       "│ input_layer_1 (<span style=\"color: #0087ff; text-decoration-color: #0087ff\">InputLayer</span>)      │ (<span style=\"color: #00d7ff; text-decoration-color: #00d7ff\">None</span>, <span style=\"color: #00af00; text-decoration-color: #00af00\">224</span>, <span style=\"color: #00af00; text-decoration-color: #00af00\">224</span>, <span style=\"color: #00af00; text-decoration-color: #00af00\">3</span>)    │             <span style=\"color: #00af00; text-decoration-color: #00af00\">0</span> │\n",
       "├─────────────────────────────────┼────────────────────────┼───────────────┤\n",
       "│ rescaling_2 (<span style=\"color: #0087ff; text-decoration-color: #0087ff\">Rescaling</span>)         │ (<span style=\"color: #00d7ff; text-decoration-color: #00d7ff\">None</span>, <span style=\"color: #00af00; text-decoration-color: #00af00\">224</span>, <span style=\"color: #00af00; text-decoration-color: #00af00\">224</span>, <span style=\"color: #00af00; text-decoration-color: #00af00\">3</span>)    │             <span style=\"color: #00af00; text-decoration-color: #00af00\">0</span> │\n",
       "├─────────────────────────────────┼────────────────────────┼───────────────┤\n",
       "│ efficientnetb4 (<span style=\"color: #0087ff; text-decoration-color: #0087ff\">Functional</span>)     │ (<span style=\"color: #00d7ff; text-decoration-color: #00d7ff\">None</span>, <span style=\"color: #00af00; text-decoration-color: #00af00\">7</span>, <span style=\"color: #00af00; text-decoration-color: #00af00\">7</span>, <span style=\"color: #00af00; text-decoration-color: #00af00\">1792</span>)     │    <span style=\"color: #00af00; text-decoration-color: #00af00\">17,673,823</span> │\n",
       "├─────────────────────────────────┼────────────────────────┼───────────────┤\n",
       "│ global_average_pooling2d        │ (<span style=\"color: #00d7ff; text-decoration-color: #00d7ff\">None</span>, <span style=\"color: #00af00; text-decoration-color: #00af00\">1792</span>)           │             <span style=\"color: #00af00; text-decoration-color: #00af00\">0</span> │\n",
       "│ (<span style=\"color: #0087ff; text-decoration-color: #0087ff\">GlobalAveragePooling2D</span>)        │                        │               │\n",
       "├─────────────────────────────────┼────────────────────────┼───────────────┤\n",
       "│ dropout (<span style=\"color: #0087ff; text-decoration-color: #0087ff\">Dropout</span>)               │ (<span style=\"color: #00d7ff; text-decoration-color: #00d7ff\">None</span>, <span style=\"color: #00af00; text-decoration-color: #00af00\">1792</span>)           │             <span style=\"color: #00af00; text-decoration-color: #00af00\">0</span> │\n",
       "├─────────────────────────────────┼────────────────────────┼───────────────┤\n",
       "│ dense (<span style=\"color: #0087ff; text-decoration-color: #0087ff\">Dense</span>)                   │ (<span style=\"color: #00d7ff; text-decoration-color: #00d7ff\">None</span>, <span style=\"color: #00af00; text-decoration-color: #00af00\">27</span>)             │        <span style=\"color: #00af00; text-decoration-color: #00af00\">48,411</span> │\n",
       "└─────────────────────────────────┴────────────────────────┴───────────────┘\n",
       "</pre>\n"
      ],
      "text/plain": [
       "┏━━━━━━━━━━━━━━━━━━━━━━━━━━━━━━━━━┳━━━━━━━━━━━━━━━━━━━━━━━━┳━━━━━━━━━━━━━━━┓\n",
       "┃\u001b[1m \u001b[0m\u001b[1mLayer (type)                   \u001b[0m\u001b[1m \u001b[0m┃\u001b[1m \u001b[0m\u001b[1mOutput Shape          \u001b[0m\u001b[1m \u001b[0m┃\u001b[1m \u001b[0m\u001b[1m      Param #\u001b[0m\u001b[1m \u001b[0m┃\n",
       "┡━━━━━━━━━━━━━━━━━━━━━━━━━━━━━━━━━╇━━━━━━━━━━━━━━━━━━━━━━━━╇━━━━━━━━━━━━━━━┩\n",
       "│ input_layer_1 (\u001b[38;5;33mInputLayer\u001b[0m)      │ (\u001b[38;5;45mNone\u001b[0m, \u001b[38;5;34m224\u001b[0m, \u001b[38;5;34m224\u001b[0m, \u001b[38;5;34m3\u001b[0m)    │             \u001b[38;5;34m0\u001b[0m │\n",
       "├─────────────────────────────────┼────────────────────────┼───────────────┤\n",
       "│ rescaling_2 (\u001b[38;5;33mRescaling\u001b[0m)         │ (\u001b[38;5;45mNone\u001b[0m, \u001b[38;5;34m224\u001b[0m, \u001b[38;5;34m224\u001b[0m, \u001b[38;5;34m3\u001b[0m)    │             \u001b[38;5;34m0\u001b[0m │\n",
       "├─────────────────────────────────┼────────────────────────┼───────────────┤\n",
       "│ efficientnetb4 (\u001b[38;5;33mFunctional\u001b[0m)     │ (\u001b[38;5;45mNone\u001b[0m, \u001b[38;5;34m7\u001b[0m, \u001b[38;5;34m7\u001b[0m, \u001b[38;5;34m1792\u001b[0m)     │    \u001b[38;5;34m17,673,823\u001b[0m │\n",
       "├─────────────────────────────────┼────────────────────────┼───────────────┤\n",
       "│ global_average_pooling2d        │ (\u001b[38;5;45mNone\u001b[0m, \u001b[38;5;34m1792\u001b[0m)           │             \u001b[38;5;34m0\u001b[0m │\n",
       "│ (\u001b[38;5;33mGlobalAveragePooling2D\u001b[0m)        │                        │               │\n",
       "├─────────────────────────────────┼────────────────────────┼───────────────┤\n",
       "│ dropout (\u001b[38;5;33mDropout\u001b[0m)               │ (\u001b[38;5;45mNone\u001b[0m, \u001b[38;5;34m1792\u001b[0m)           │             \u001b[38;5;34m0\u001b[0m │\n",
       "├─────────────────────────────────┼────────────────────────┼───────────────┤\n",
       "│ dense (\u001b[38;5;33mDense\u001b[0m)                   │ (\u001b[38;5;45mNone\u001b[0m, \u001b[38;5;34m27\u001b[0m)             │        \u001b[38;5;34m48,411\u001b[0m │\n",
       "└─────────────────────────────────┴────────────────────────┴───────────────┘\n"
      ]
     },
     "metadata": {},
     "output_type": "display_data"
    },
    {
     "data": {
      "text/html": [
       "<pre style=\"white-space:pre;overflow-x:auto;line-height:normal;font-family:Menlo,'DejaVu Sans Mono',consolas,'Courier New',monospace\"><span style=\"font-weight: bold\"> Total params: </span><span style=\"color: #00af00; text-decoration-color: #00af00\">17,722,234</span> (67.60 MB)\n",
       "</pre>\n"
      ],
      "text/plain": [
       "\u001b[1m Total params: \u001b[0m\u001b[38;5;34m17,722,234\u001b[0m (67.60 MB)\n"
      ]
     },
     "metadata": {},
     "output_type": "display_data"
    },
    {
     "data": {
      "text/html": [
       "<pre style=\"white-space:pre;overflow-x:auto;line-height:normal;font-family:Menlo,'DejaVu Sans Mono',consolas,'Courier New',monospace\"><span style=\"font-weight: bold\"> Trainable params: </span><span style=\"color: #00af00; text-decoration-color: #00af00\">48,411</span> (189.11 KB)\n",
       "</pre>\n"
      ],
      "text/plain": [
       "\u001b[1m Trainable params: \u001b[0m\u001b[38;5;34m48,411\u001b[0m (189.11 KB)\n"
      ]
     },
     "metadata": {},
     "output_type": "display_data"
    },
    {
     "data": {
      "text/html": [
       "<pre style=\"white-space:pre;overflow-x:auto;line-height:normal;font-family:Menlo,'DejaVu Sans Mono',consolas,'Courier New',monospace\"><span style=\"font-weight: bold\"> Non-trainable params: </span><span style=\"color: #00af00; text-decoration-color: #00af00\">17,673,823</span> (67.42 MB)\n",
       "</pre>\n"
      ],
      "text/plain": [
       "\u001b[1m Non-trainable params: \u001b[0m\u001b[38;5;34m17,673,823\u001b[0m (67.42 MB)\n"
      ]
     },
     "metadata": {},
     "output_type": "display_data"
    },
    {
     "name": "stdout",
     "output_type": "stream",
     "text": [
      "\n",
      "--- 1단계: 전이 학습 시작 ---\n",
      "Epoch 1/5\n"
     ]
    },
    {
     "name": "stderr",
     "output_type": "stream",
     "text": [
      "WARNING: All log messages before absl::InitializeLog() is called are written to STDERR\n",
      "I0000 00:00:1755981317.115170   37969 service.cc:145] XLA service 0x7fbd900c9530 initialized for platform CUDA (this does not guarantee that XLA will be used). Devices:\n",
      "I0000 00:00:1755981317.115238   37969 service.cc:153]   StreamExecutor device (0): Tesla V100-SXM2-32GB, Compute Capability 7.0\n",
      "2025-08-23 20:35:17.970758: I tensorflow/compiler/mlir/tensorflow/utils/dump_mlir_util.cc:268] disabling MLIR crash reproducer, set env var `MLIR_CRASH_REPRODUCER_DIRECTORY` to enable.\n",
      "2025-08-23 20:35:20.773554: I external/local_xla/xla/stream_executor/cuda/cuda_dnn.cc:465] Loaded cuDNN version 8906\n"
     ]
    },
    {
     "name": "stdout",
     "output_type": "stream",
     "text": [
      "\u001b[1m    3/13139\u001b[0m \u001b[37m━━━━━━━━━━━━━━━━━━━━\u001b[0m \u001b[1m7:34\u001b[0m 35ms/step - accuracy: 0.0139 - loss: 3.3579        "
     ]
    },
    {
     "name": "stderr",
     "output_type": "stream",
     "text": [
      "I0000 00:00:1755981368.289685   37969 device_compiler.h:188] Compiled cluster using XLA!  This line is logged at most once for the lifetime of the process.\n"
     ]
    },
    {
     "name": "stdout",
     "output_type": "stream",
     "text": [
      "\u001b[1m13138/13139\u001b[0m \u001b[32m━━━━━━━━━━━━━━━━━━━\u001b[0m\u001b[37m━\u001b[0m \u001b[1m0s\u001b[0m 19ms/step - accuracy: 0.0797 - loss: 3.1207\n",
      "Epoch 1: val_loss improved from inf to 3.11915, saving model to ../model/best_kfood_model.keras\n",
      "\u001b[1m13139/13139\u001b[0m \u001b[32m━━━━━━━━━━━━━━━━━━━━\u001b[0m\u001b[37m\u001b[0m \u001b[1m454s\u001b[0m 29ms/step - accuracy: 0.0797 - loss: 3.1207 - val_accuracy: 0.0815 - val_loss: 3.1192\n",
      "Epoch 2/5\n",
      "\u001b[1m13137/13139\u001b[0m \u001b[32m━━━━━━━━━━━━━━━━━━━\u001b[0m\u001b[37m━\u001b[0m \u001b[1m0s\u001b[0m 19ms/step - accuracy: 0.0777 - loss: 3.1304\n",
      "Epoch 2: val_loss improved from 3.11915 to 3.10928, saving model to ../model/best_kfood_model.keras\n",
      "\u001b[1m13139/13139\u001b[0m \u001b[32m━━━━━━━━━━━━━━━━━━━━\u001b[0m\u001b[37m\u001b[0m \u001b[1m366s\u001b[0m 28ms/step - accuracy: 0.0777 - loss: 3.1304 - val_accuracy: 0.0745 - val_loss: 3.1093\n",
      "Epoch 3/5\n",
      "\u001b[1m 2361/13139\u001b[0m \u001b[32m━━━\u001b[0m\u001b[37m━━━━━━━━━━━━━━━━━\u001b[0m \u001b[1m3:18\u001b[0m 18ms/step - accuracy: 0.0809 - loss: 3.1339"
     ]
    }
   ],
   "source": [
    "# ======================================================\n",
    "# 셀 3: 메인 실행 - 데이터 준비, 모델 생성 및 1단계 학습\n",
    "# ======================================================\n",
    "\n",
    "seed = 53\n",
    "tf.random.set_seed(seed)\n",
    "np.random.seed(seed)\n",
    "\n",
    "# 파라미터 설정\n",
    "DATA_PATH = '../data/kfood'\n",
    "MODEL_PATH = '../model'\n",
    "IMG_SIZE = (224, 224)\n",
    "BATCH_SIZE = 8\n",
    "\n",
    "# --- 데이터 준비 ---\n",
    "train_dataset, validation_dataset, test_dataset, class_names = prepare_datasets(\n",
    "    base_path=DATA_PATH,\n",
    "    seed=seed,\n",
    "    img_size=IMG_SIZE,\n",
    "    batch_size=BATCH_SIZE\n",
    ")\n",
    "\n",
    "# --- 모델 생성 ---\n",
    "model = create_kfood_model(\n",
    "    input_shape=IMG_SIZE + (3,),\n",
    "    num_classes=len(class_names)\n",
    ")\n",
    "model.summary()\n",
    "\n",
    "# --- 1단계: 전이 학습 실행 ---\n",
    "print(\"\\n--- 1단계: 전이 학습 시작 ---\")\n",
    "es = tf.keras.callbacks.EarlyStopping(patience=5, monitor=\"val_loss\", restore_best_weights=True, verbose=1)\n",
    "ck_path = os.path.join(MODEL_PATH, \"best_kfood_model.keras\")\n",
    "os.makedirs(MODEL_PATH, exist_ok=True)\n",
    "ck = tf.keras.callbacks.ModelCheckpoint(ck_path, save_best_only=True, monitor='val_loss', verbose=1)\n",
    "\n",
    "history_transfer = model.fit(\n",
    "    train_dataset,\n",
    "    validation_data=validation_dataset,\n",
    "    epochs=5,\n",
    "    callbacks=[es, ck]\n",
    ")"
   ]
  },
  {
   "cell_type": "code",
   "execution_count": null,
   "id": "c9d45e8da2eb8799",
   "metadata": {},
   "outputs": [],
   "source": [
    "# ======================================================\n",
    "# 셀 4: 1단계 학습 결과 시각화\n",
    "# ======================================================\n",
    "plt.figure(figsize=(12, 5))\n",
    "\n",
    "plt.subplot(1, 2, 1)\n",
    "plt.plot(history_transfer.history['loss'], label='Train Loss')\n",
    "plt.plot(history_transfer.history['val_loss'], label='Validation Loss')\n",
    "plt.title('Transfer Learning - Loss')\n",
    "plt.xlabel('Epochs')\n",
    "plt.ylabel('Loss')\n",
    "plt.legend()\n",
    "plt.grid(True)\n",
    "\n",
    "plt.subplot(1, 2, 2)\n",
    "plt.plot(history_transfer.history['accuracy'], label='Train Accuracy')\n",
    "plt.plot(history_transfer.history['val_acc'], label='Validation Accuracy')\n",
    "plt.title('Transfer Learning - Accuracy')\n",
    "plt.xlabel('Epochs')\n",
    "plt.ylabel('Accuracy')\n",
    "plt.legend()\n",
    "plt.grid(True)\n",
    "\n",
    "plt.tight_layout()\n",
    "plt.show()"
   ]
  },
  {
   "cell_type": "code",
   "execution_count": null,
   "id": "7de700bd3148e2e1",
   "metadata": {},
   "outputs": [],
   "source": [
    "# ======================================================\n",
    "# 셀 5: 2단계 - 미세 조정 실행\n",
    "# ======================================================\n",
    "print(\"\\n--- 2단계: 미세 조정 준비 ---\")\n",
    "\n",
    "# 가장 성능이 좋았던 모델을 로드\n",
    "model = tf.keras.models.load_model(ck_path)\n",
    "\n",
    "# 기반 모델 동결 해제 및 하위 레이어 재동결\n",
    "# model.layers[2]가 base_model에 해당 (summary 참고: Input -> Rescaling -> base_model)\n",
    "base_model = model.layers[2] \n",
    "base_model.trainable = True\n",
    "for layer in base_model.layers[:-20]:\n",
    "    layer.trainable = False\n",
    "\n",
    "# 매우 낮은 학습률로 다시 컴파일\n",
    "fine_tune_optimizer = tf.keras.optimizers.Adam(learning_rate=1e-5)\n",
    "model.compile(\n",
    "    optimizer=fine_tune_optimizer,\n",
    "    loss='sparse_categorical_crossentropy',\n",
    "    metrics=['sparse_categorical_accuracy']\n",
    ")\n",
    "\n",
    "print(\"\\n미세 조정을 위한 모델 구조:\")\n",
    "model.summary()\n",
    "\n",
    "# 미세 조정 학습 시작\n",
    "print(\"\\n--- 2단계: 미세 조정 시작 ---\")\n",
    "initial_epoch = history_transfer.epoch[-1] + 1\n",
    "history_fine = model.fit(\n",
    "    train_dataset,\n",
    "    validation_data=validation_dataset,\n",
    "    epochs=20,\n",
    "    initial_epoch=initial_epoch,\n",
    "    callbacks=[es, ck] # 동일한 콜백 사용\n",
    ")"
   ]
  },
  {
   "cell_type": "code",
   "execution_count": null,
   "id": "c1309cc5d23c7984",
   "metadata": {},
   "outputs": [],
   "source": [
    "# ======================================================\n",
    "# 셀 6: 최종 모델 평가\n",
    "# ======================================================\n",
    "print(\"\\n--- 최종 성능 평가 ---\")\n",
    "\n",
    "# 최종적으로 가장 성능이 좋았던 모델 로드\n",
    "best_model = tf.keras.models.load_model(ck_path)\n",
    "\n",
    "# 학습에 전혀 사용되지 않은 테스트 데이터셋으로 최종 성능 평가\n",
    "print(\"\\nTest 데이터셋으로 최종 성능을 평가합니다...\")\n",
    "loss, accuracy = best_model.evaluate(test_dataset)\n",
    "print(f\"최종 테스트 손실 (Final Test Loss): {loss:.4f}\")\n",
    "print(f\"최종 테스트 정확도 (Final Test Accuracy): {accuracy:.4f}\")"
   ]
  }
 ],
 "metadata": {
  "kernelspec": {
   "display_name": "Python 3 (ipykernel)",
   "language": "python",
   "name": "python3"
  },
  "language_info": {
   "codemirror_mode": {
    "name": "ipython",
    "version": 3
   },
   "file_extension": ".py",
   "mimetype": "text/x-python",
   "name": "python",
   "nbconvert_exporter": "python",
   "pygments_lexer": "ipython3",
   "version": "3.11.0rc1"
  }
 },
 "nbformat": 4,
 "nbformat_minor": 5
}
